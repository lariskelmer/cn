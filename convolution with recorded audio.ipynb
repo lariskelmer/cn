{
  "nbformat": 4,
  "nbformat_minor": 0,
  "metadata": {
    "colab": {
      "name": "convolução-PDS.py",
      "provenance": [],
      "collapsed_sections": []
    },
    "kernelspec": {
      "name": "python3",
      "display_name": "Python 3"
    }
  },
  "cells": [
    {
      "cell_type": "code",
      "metadata": {
        "colab": {
          "base_uri": "https://localhost:8080/"
        },
        "id": "TdpOh2K-o4YR",
        "outputId": "a4c50c4e-e130-40b7-b0c5-5ff8cc45afdd"
      },
      "source": [
        "!pip install pydub \n",
        "\n",
        "from pydub import AudioSegment\n",
        "import numpy as np\n",
        "import scipy.io.wavfile\n",
        "from plotly.offline import init_notebook_mode\n",
        "import plotly.graph_objs as go\n",
        "import plotly\n"
      ],
      "execution_count": null,
      "outputs": [
        {
          "output_type": "stream",
          "text": [
            "Requirement already satisfied: pydub in /usr/local/lib/python3.6/dist-packages (0.24.1)\n"
          ],
          "name": "stdout"
        }
      ]
    },
    {
      "cell_type": "code",
      "metadata": {
        "id": "zJFPn2M-phi6"
      },
      "source": [
        "filename_in = 'Church Schellingwoude.wav'\n",
        "filename_mic = 'output_mic.wav'"
      ],
      "execution_count": null,
      "outputs": []
    },
    {
      "cell_type": "code",
      "metadata": {
        "colab": {
          "base_uri": "https://localhost:8080/",
          "height": 298
        },
        "id": "qyv7YhtarVIq",
        "outputId": "256179ce-47c8-4d06-d76b-8c0e36bd060f"
      },
      "source": [
        "import soundfile\n",
        "import matplotlib.pyplot as plt \n",
        "\n",
        "\"\"\"\n",
        "data_wav_norm, samplerate = soundfile.read(filename_in)\n",
        "soundfile.write(filename_in, data_wav_norm, samplerate, subtype='PCM_16')\n",
        "\n",
        "\"\"\"\n",
        "fs_wav, data_wav = wavfile.read(filename_in)\n",
        "\n",
        "data_wav_norm = data_wav / (2**15)\n",
        "\n",
        "time_wav = np.arange(0, len(data_wav_norm)) / fs_wav\n",
        "print(\"time wav: {}\".format(time_wav))\n",
        "\"\"\"\n",
        "plotly.offline.iplot({ \"data\": [go.Scatter(x=time_wav, \n",
        "                                           y=data_wav_norm[:,0], \n",
        "                                           name='normalized audio signal')]})\n",
        "\"\"\"\n",
        "plt.plot(time_wav, data_wav_norm[:,1])\n",
        "plt.show()"
      ],
      "execution_count": null,
      "outputs": [
        {
          "output_type": "stream",
          "text": [
            "time wav: [0.00000000e+00 2.26757370e-05 4.53514739e-05 ... 1.87648526e+00\n",
            " 1.87650794e+00 1.87653061e+00]\n"
          ],
          "name": "stdout"
        },
        {
          "output_type": "display_data",
          "data": {
            "image/png": "[encoded data removed]",
            "text/plain": [
              "<Figure size 432x288 with 1 Axes>"
            ]
          },
          "metadata": {
            "tags": [],
            "needs_background": "light"
          }
        }
      ]
    },
    {
      "cell_type": "code",
      "metadata": {
        "colab": {
          "base_uri": "https://localhost:8080/"
        },
        "id": "xv3hlTGW-FAN",
        "outputId": "de7d1414-9d8c-457b-de3f-b00e7e01c3dd"
      },
      "source": [
        "!pip install sounddevice"
      ],
      "execution_count": null,
      "outputs": [
        {
          "output_type": "stream",
          "text": [
            "pip 19.3.1 from /usr/local/lib/python3.6/dist-packages/pip (python 3.6)\n",
            "Requirement already satisfied: setuptools in /usr/local/lib/python3.6/dist-packages (53.0.0)\n",
            "Requirement already satisfied: setuptools in /usr/local/lib/python3.6/dist-packages (53.0.0)\n",
            "Collecting sounddevice\n",
            "  Downloading https://files.pythonhosted.org/packages/3d/e9/cf30f70b81c1a7fa97598d2e89fddb16ab798ca6d64182aa8cd2d66794a4/sounddevice-0.4.1-py3-none-any.whl\n",
            "Requirement already satisfied: CFFI>=1.0 in /usr/local/lib/python3.6/dist-packages (from sounddevice) (1.14.4)\n",
            "Requirement already satisfied: pycparser in /usr/local/lib/python3.6/dist-packages (from CFFI>=1.0->sounddevice) (2.20)\n",
            "Installing collected packages: sounddevice\n",
            "Successfully installed sounddevice-0.4.1\n"
          ],
          "name": "stdout"
        }
      ]
    },
    {
      "cell_type": "code",
      "metadata": {
        "colab": {
          "base_uri": "https://localhost:8080/",
          "height": 346
        },
        "id": "Wjmiv8b972ok",
        "outputId": "beaf66fe-951b-49df-b754-57eb203765ef"
      },
      "source": [
        "import sounddevice as sd\n",
        "\n",
        "print('Gravando...\\n')\n",
        "\"\"\"\n",
        "duration = len(data_wav_norm)/ fs_wav\n",
        "\n",
        "print('Gravando...\\n')\n",
        "\n",
        "mic_data = sd.rec(\n",
        "        int(fs_wav * duration), \n",
        "        samplerate = fs_wav,\n",
        "        channels = 1, \n",
        "        blocking = True\n",
        "    )\n",
        "print('A gravação parou.\\n')\n",
        "soundfile.write(filename_mic, mic_data, fs_wav)\n",
        "\"\"\""
      ],
      "execution_count": null,
      "outputs": [
        {
          "output_type": "error",
          "ename": "OSError",
          "evalue": "ignored",
          "traceback": [
            "\u001b[0;31m---------------------------------------------------------------------------\u001b[0m",
            "\u001b[0;31mOSError\u001b[0m                                   Traceback (most recent call last)",
            "\u001b[0;32m<ipython-input-65-918682e90669>\u001b[0m in \u001b[0;36m<module>\u001b[0;34m()\u001b[0m\n\u001b[0;32m----> 1\u001b[0;31m \u001b[0;32mimport\u001b[0m \u001b[0msounddevice\u001b[0m \u001b[0;32mas\u001b[0m \u001b[0msd\u001b[0m\u001b[0;34m\u001b[0m\u001b[0;34m\u001b[0m\u001b[0m\n\u001b[0m\u001b[1;32m      2\u001b[0m \u001b[0;34m\u001b[0m\u001b[0m\n\u001b[1;32m      3\u001b[0m \u001b[0mprint\u001b[0m\u001b[0;34m(\u001b[0m\u001b[0;34m'Gravando...\\n'\u001b[0m\u001b[0;34m)\u001b[0m\u001b[0;34m\u001b[0m\u001b[0;34m\u001b[0m\u001b[0m\n\u001b[1;32m      4\u001b[0m \u001b[0;34m\u001b[0m\u001b[0m\n\u001b[1;32m      5\u001b[0m mic_data = sd.rec(\n",
            "\u001b[0;32m/usr/local/lib/python3.6/dist-packages/sounddevice.py\u001b[0m in \u001b[0;36m<module>\u001b[0;34m()\u001b[0m\n\u001b[1;32m     69\u001b[0m             \u001b[0;32mbreak\u001b[0m\u001b[0;34m\u001b[0m\u001b[0;34m\u001b[0m\u001b[0m\n\u001b[1;32m     70\u001b[0m     \u001b[0;32melse\u001b[0m\u001b[0;34m:\u001b[0m\u001b[0;34m\u001b[0m\u001b[0;34m\u001b[0m\u001b[0m\n\u001b[0;32m---> 71\u001b[0;31m         \u001b[0;32mraise\u001b[0m \u001b[0mOSError\u001b[0m\u001b[0;34m(\u001b[0m\u001b[0;34m'PortAudio library not found'\u001b[0m\u001b[0;34m)\u001b[0m\u001b[0;34m\u001b[0m\u001b[0;34m\u001b[0m\u001b[0m\n\u001b[0m\u001b[1;32m     72\u001b[0m     \u001b[0m_lib\u001b[0m \u001b[0;34m=\u001b[0m \u001b[0m_ffi\u001b[0m\u001b[0;34m.\u001b[0m\u001b[0mdlopen\u001b[0m\u001b[0;34m(\u001b[0m\u001b[0m_libname\u001b[0m\u001b[0;34m)\u001b[0m\u001b[0;34m\u001b[0m\u001b[0;34m\u001b[0m\u001b[0m\n\u001b[1;32m     73\u001b[0m \u001b[0;32mexcept\u001b[0m \u001b[0mOSError\u001b[0m\u001b[0;34m:\u001b[0m\u001b[0;34m\u001b[0m\u001b[0;34m\u001b[0m\u001b[0m\n",
            "\u001b[0;31mOSError\u001b[0m: PortAudio library not found"
          ]
        }
      ]
    },
    {
      "cell_type": "code",
      "metadata": {
        "colab": {
          "base_uri": "https://localhost:8080/",
          "height": 298
        },
        "id": "53KhsVelyoGb",
        "outputId": "30253846-d69c-4ecc-9bcb-5b37c0fd9ba4"
      },
      "source": [
        "fs_wav_mic, data_wav_mic = wavfile.read(filename_mic)\n",
        "#data_wav_norm = data_wav / (2**15)\n",
        "time_wav_mic = np.arange(0, len(data_wav_mic)) / fs_wav_mic\n",
        "print('time wav mic: {}'.format(time_wav_mic))\n",
        "plt.plot(time_wav_mic, data_wav_mic)\n",
        "plt.show()"
      ],
      "execution_count": null,
      "outputs": [
        {
          "output_type": "stream",
          "text": [
            "time wav mic: [0.00000000e+00 2.26757370e-05 4.53514739e-05 ... 2.81476190e+00\n",
            " 2.81478458e+00 2.81480726e+00]\n"
          ],
          "name": "stdout"
        },
        {
          "output_type": "display_data",
          "data": {
            "image/png": "[encoded data removed]",
            "text/plain": [
              "<Figure size 432x288 with 1 Axes>"
            ]
          },
          "metadata": {
            "tags": [],
            "needs_background": "light"
          }
        }
      ]
    },
    {
      "cell_type": "code",
      "metadata": {
        "colab": {
          "base_uri": "https://localhost:8080/",
          "height": 282
        },
        "id": "FEkbWfrP8I66",
        "outputId": "097a749d-ad35-4027-a5a7-872d1aff01a7"
      },
      "source": [
        "import scipy.signal\n",
        "#convolution = np.convolve(data_wav_norm[:,0], data_wav_mic, mode = 'full')\n",
        "convolution = scipy.signal.convolve(data_wav_norm[:,0], data_wav_mic, mode = 'full', method = 'direct')\n",
        "print(convolution)\n",
        "soundfile.write('output_conv2.wav', convolution, fs_wav_mic)\n",
        "plt.plot(time_wav, data_wav_norm[:,0], data_wav_mic)\n",
        "plt.show()"
      ],
      "execution_count": null,
      "outputs": [
        {
          "output_type": "stream",
          "text": [
            "[0.         0.         0.02487183 ... 0.24978638 0.25869751 0.        ]\n"
          ],
          "name": "stdout"
        },
        {
          "output_type": "display_data",
          "data": {
            "image/png": "[encoded data removed]",
            "text/plain": [
              "<Figure size 432x288 with 1 Axes>"
            ]
          },
          "metadata": {
            "tags": [],
            "needs_background": "light"
          }
        }
      ]
    }
  ]
}